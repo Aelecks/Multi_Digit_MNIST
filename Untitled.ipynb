{
 "cells": [
  {
   "cell_type": "code",
   "execution_count": 1,
   "id": "e92a0ec7",
   "metadata": {},
   "outputs": [],
   "source": [
    "import numpy as np\n",
    "import matplotlib.pyplot as plt\n",
    "import seaborn as sns\n",
    "from array_scale import arrayScale1D, arrayScale2D\n",
    "from combine_numbers import combine_numbers\n",
    "from tensorflow import keras\n",
    "\n",
    "from tensorflow.keras.models import Sequential, Model\n",
    "from tensorflow.keras.layers import Dense, Flatten, Input, Conv2D, MaxPooling2D, Dropout\n",
    "\n",
    "import warnings\n",
    "warnings.filterwarnings('ignore')"
   ]
  },
  {
   "cell_type": "code",
   "execution_count": 2,
   "id": "a83190f6",
   "metadata": {},
   "outputs": [],
   "source": [
    "# to make plotting a little easier:\n",
    "\n",
    "def ezplot(a,size=(3,3)):\n",
    "    plt.figure(figsize=(size))\n",
    "    sns.heatmap(a)"
   ]
  },
  {
   "cell_type": "code",
   "execution_count": 3,
   "id": "4d2cd1dd",
   "metadata": {},
   "outputs": [
    {
     "name": "stdout",
     "output_type": "stream",
     "text": [
      "x_train size: (60000, 28, 28, 1) x_test size: (10000, 28, 28, 1)\n",
      "y_train size: (60000,) y_test size: (10000,)\n"
     ]
    }
   ],
   "source": [
    "## Get the data:\n",
    "(x_train, y_train) , (x_test,y_test) = keras.datasets.mnist.load_data()\n",
    "x_train = np.expand_dims(x_train,-1)\n",
    "x_test = np.expand_dims(x_test,-1)\n",
    "\n",
    "print(f'x_train size: {x_train.shape} x_test size: {x_test.shape}')\n",
    "print(f'y_train size: {y_train.shape} y_test size: {y_test.shape}')\n"
   ]
  },
  {
   "cell_type": "code",
   "execution_count": 4,
   "id": "39f06c29",
   "metadata": {},
   "outputs": [],
   "source": [
    "y_train = keras.utils.to_categorical(y_train,num_classes=10)\n",
    "y_test = keras.utils.to_categorical(y_test,num_classes=10)"
   ]
  },
  {
   "cell_type": "code",
   "execution_count": 5,
   "id": "226b98fc",
   "metadata": {},
   "outputs": [],
   "source": [
    "# Testing the nueral network:\n",
    "model1 = Sequential(\n",
    "    [\n",
    "        Input(shape=(28,28,1)),\n",
    "        Conv2D(32, kernel_size=(3, 3), activation=\"relu\"),\n",
    "        MaxPooling2D(pool_size=(2, 2)),\n",
    "        Conv2D(64, kernel_size=(3, 3), activation=\"relu\"),\n",
    "        MaxPooling2D(pool_size=(2, 2)),\n",
    "        Flatten(),\n",
    "        Dropout(0.5),\n",
    "        Dense(10, activation=\"softmax\"),\n",
    "    ]\n",
    ")"
   ]
  },
  {
   "cell_type": "code",
   "execution_count": 6,
   "id": "12f62908",
   "metadata": {},
   "outputs": [
    {
     "name": "stdout",
     "output_type": "stream",
     "text": [
      "Model: \"sequential\"\n",
      "_________________________________________________________________\n",
      " Layer (type)                Output Shape              Param #   \n",
      "=================================================================\n",
      " conv2d (Conv2D)             (None, 26, 26, 32)        320       \n",
      "                                                                 \n",
      " max_pooling2d (MaxPooling2D  (None, 13, 13, 32)       0         \n",
      " )                                                               \n",
      "                                                                 \n",
      " conv2d_1 (Conv2D)           (None, 11, 11, 64)        18496     \n",
      "                                                                 \n",
      " max_pooling2d_1 (MaxPooling  (None, 5, 5, 64)         0         \n",
      " 2D)                                                             \n",
      "                                                                 \n",
      " flatten (Flatten)           (None, 1600)              0         \n",
      "                                                                 \n",
      " dropout (Dropout)           (None, 1600)              0         \n",
      "                                                                 \n",
      " dense (Dense)               (None, 10)                16010     \n",
      "                                                                 \n",
      "=================================================================\n",
      "Total params: 34,826\n",
      "Trainable params: 34,826\n",
      "Non-trainable params: 0\n",
      "_________________________________________________________________\n"
     ]
    }
   ],
   "source": [
    "model1.compile(loss='categorical_crossentropy',optimizer='adam',metrics=['accuracy'])\n",
    "model1.summary()"
   ]
  },
  {
   "cell_type": "code",
   "execution_count": 46,
   "id": "8dd8a2be",
   "metadata": {
    "scrolled": true
   },
   "outputs": [
    {
     "name": "stdout",
     "output_type": "stream",
     "text": [
      "Epoch 1/50\n",
      "469/469 [==============================] - 9s 18ms/step - loss: 0.1988 - accuracy: 0.9405\n",
      "Epoch 2/50\n",
      "469/469 [==============================] - 8s 17ms/step - loss: 0.1495 - accuracy: 0.9552\n",
      "Epoch 3/50\n",
      "469/469 [==============================] - 8s 18ms/step - loss: 0.1272 - accuracy: 0.9605\n",
      "Epoch 4/50\n",
      "469/469 [==============================] - 8s 17ms/step - loss: 0.1116 - accuracy: 0.9661\n",
      "Epoch 5/50\n",
      "469/469 [==============================] - 8s 17ms/step - loss: 0.1028 - accuracy: 0.9685\n",
      "Epoch 6/50\n",
      "469/469 [==============================] - 8s 17ms/step - loss: 0.0972 - accuracy: 0.9704\n",
      "Epoch 7/50\n",
      "469/469 [==============================] - 8s 17ms/step - loss: 0.0908 - accuracy: 0.9721\n",
      "Epoch 8/50\n",
      "469/469 [==============================] - 8s 17ms/step - loss: 0.0830 - accuracy: 0.9743\n",
      "Epoch 9/50\n",
      "469/469 [==============================] - 8s 17ms/step - loss: 0.0815 - accuracy: 0.9742\n",
      "Epoch 10/50\n",
      "469/469 [==============================] - 8s 17ms/step - loss: 0.0777 - accuracy: 0.9750\n",
      "Epoch 11/50\n",
      "469/469 [==============================] - 8s 17ms/step - loss: 0.0730 - accuracy: 0.9763\n",
      "Epoch 12/50\n",
      "469/469 [==============================] - 8s 17ms/step - loss: 0.0702 - accuracy: 0.9782\n",
      "Epoch 13/50\n",
      "469/469 [==============================] - 8s 17ms/step - loss: 0.0640 - accuracy: 0.9798\n",
      "Epoch 14/50\n",
      "469/469 [==============================] - 8s 17ms/step - loss: 0.0614 - accuracy: 0.9803\n",
      "Epoch 15/50\n",
      "469/469 [==============================] - 8s 17ms/step - loss: 0.0595 - accuracy: 0.9811\n",
      "Epoch 16/50\n",
      "469/469 [==============================] - 8s 17ms/step - loss: 0.0544 - accuracy: 0.9828\n",
      "Epoch 17/50\n",
      "469/469 [==============================] - 9s 18ms/step - loss: 0.0560 - accuracy: 0.9824\n",
      "Epoch 18/50\n",
      "469/469 [==============================] - 34s 73ms/step - loss: 0.0542 - accuracy: 0.9830\n",
      "Epoch 19/50\n",
      "469/469 [==============================] - 8s 17ms/step - loss: 0.0504 - accuracy: 0.9845\n",
      "Epoch 20/50\n",
      "469/469 [==============================] - 8s 17ms/step - loss: 0.0498 - accuracy: 0.9843\n",
      "Epoch 21/50\n",
      "469/469 [==============================] - 8s 17ms/step - loss: 0.0464 - accuracy: 0.9850\n",
      "Epoch 22/50\n",
      "469/469 [==============================] - 8s 17ms/step - loss: 0.0482 - accuracy: 0.9850\n",
      "Epoch 23/50\n",
      "469/469 [==============================] - 8s 18ms/step - loss: 0.0441 - accuracy: 0.9861\n",
      "Epoch 24/50\n",
      "469/469 [==============================] - 8s 17ms/step - loss: 0.0447 - accuracy: 0.9857\n",
      "Epoch 25/50\n",
      "469/469 [==============================] - 8s 17ms/step - loss: 0.0429 - accuracy: 0.9868\n",
      "Epoch 26/50\n",
      "469/469 [==============================] - 8s 17ms/step - loss: 0.0397 - accuracy: 0.9872\n",
      "Epoch 27/50\n",
      "469/469 [==============================] - 8s 17ms/step - loss: 0.0404 - accuracy: 0.9874\n",
      "Epoch 28/50\n",
      "469/469 [==============================] - 8s 17ms/step - loss: 0.0389 - accuracy: 0.9877\n",
      "Epoch 29/50\n",
      "469/469 [==============================] - 8s 17ms/step - loss: 0.0390 - accuracy: 0.9882\n",
      "Epoch 30/50\n",
      "469/469 [==============================] - 8s 17ms/step - loss: 0.0383 - accuracy: 0.9880\n",
      "Epoch 31/50\n",
      "469/469 [==============================] - 8s 18ms/step - loss: 0.0358 - accuracy: 0.9882\n",
      "Epoch 32/50\n",
      "469/469 [==============================] - 8s 18ms/step - loss: 0.0356 - accuracy: 0.9883\n",
      "Epoch 33/50\n",
      "469/469 [==============================] - 8s 17ms/step - loss: 0.0373 - accuracy: 0.9883\n",
      "Epoch 34/50\n",
      "469/469 [==============================] - 8s 17ms/step - loss: 0.0362 - accuracy: 0.9885\n",
      "Epoch 35/50\n",
      "469/469 [==============================] - 8s 17ms/step - loss: 0.0331 - accuracy: 0.9896\n",
      "Epoch 36/50\n",
      "469/469 [==============================] - 8s 17ms/step - loss: 0.0375 - accuracy: 0.9882\n",
      "Epoch 37/50\n",
      "469/469 [==============================] - 8s 17ms/step - loss: 0.0327 - accuracy: 0.9896\n",
      "Epoch 38/50\n",
      "469/469 [==============================] - 8s 17ms/step - loss: 0.0319 - accuracy: 0.9902\n",
      "Epoch 39/50\n",
      "469/469 [==============================] - 8s 17ms/step - loss: 0.0343 - accuracy: 0.9894\n",
      "Epoch 40/50\n",
      "469/469 [==============================] - 8s 17ms/step - loss: 0.0311 - accuracy: 0.9904\n",
      "Epoch 41/50\n",
      "469/469 [==============================] - 8s 17ms/step - loss: 0.0337 - accuracy: 0.9895\n",
      "Epoch 42/50\n",
      "469/469 [==============================] - 8s 17ms/step - loss: 0.0327 - accuracy: 0.9897\n",
      "Epoch 43/50\n",
      "469/469 [==============================] - 8s 17ms/step - loss: 0.0311 - accuracy: 0.9904\n",
      "Epoch 44/50\n",
      "469/469 [==============================] - 8s 17ms/step - loss: 0.0318 - accuracy: 0.9902\n",
      "Epoch 45/50\n",
      "469/469 [==============================] - 8s 17ms/step - loss: 0.0337 - accuracy: 0.9896\n",
      "Epoch 46/50\n",
      "469/469 [==============================] - 8s 17ms/step - loss: 0.0316 - accuracy: 0.9905\n",
      "Epoch 47/50\n",
      "469/469 [==============================] - 8s 17ms/step - loss: 0.0322 - accuracy: 0.9902\n",
      "Epoch 48/50\n",
      "469/469 [==============================] - 8s 17ms/step - loss: 0.0290 - accuracy: 0.9915\n",
      "Epoch 49/50\n",
      "469/469 [==============================] - 9s 18ms/step - loss: 0.0320 - accuracy: 0.9903\n",
      "Epoch 50/50\n",
      "469/469 [==============================] - 8s 17ms/step - loss: 0.0325 - accuracy: 0.9903\n"
     ]
    },
    {
     "data": {
      "text/plain": [
       "<keras.callbacks.History at 0x281136650>"
      ]
     },
     "execution_count": 46,
     "metadata": {},
     "output_type": "execute_result"
    }
   ],
   "source": [
    "model1.fit(x_train,y_train,epochs=50,batch_size = 128)"
   ]
  },
  {
   "cell_type": "code",
   "execution_count": 7,
   "id": "021cf5d4",
   "metadata": {},
   "outputs": [
    {
     "name": "stderr",
     "output_type": "stream",
     "text": [
      "2023-08-05 12:54:36.674177: W tensorflow/tsl/platform/profile_utils/cpu_utils.cc:128] Failed to get CPU frequency: 0 Hz\n"
     ]
    }
   ],
   "source": [
    "score = model1.evaluate(x_test, y_test, verbose=0)"
   ]
  },
  {
   "cell_type": "code",
   "execution_count": null,
   "id": "26c3b826",
   "metadata": {},
   "outputs": [],
   "source": []
  },
  {
   "cell_type": "code",
   "execution_count": 9,
   "id": "5efb4527",
   "metadata": {},
   "outputs": [],
   "source": [
    "# Creating a new dataset that will combine numbers together and assign a new class:\n",
    "(x_train2, y_train2) , (x_test2, y_test2) = keras.datasets.mnist.load_data()"
   ]
  },
  {
   "cell_type": "code",
   "execution_count": 10,
   "id": "7f9faf31",
   "metadata": {},
   "outputs": [],
   "source": [
    "index_set1 = np.random.choice(x_train2[:30000].shape[0],size=12500)\n",
    "index_set2 = np.random.choice(x_train2[30000:].shape[0],size=12500)\n",
    "index_set3 = np.random.choice(x_test2[5000:].shape[0],size=2000)\n",
    "index_set4 = np.random.choice(x_test2[:5000].shape[0],size=2000)\n",
    "\n",
    "\n"
   ]
  },
  {
   "cell_type": "code",
   "execution_count": null,
   "id": "3dc172e0",
   "metadata": {},
   "outputs": [],
   "source": []
  },
  {
   "cell_type": "code",
   "execution_count": 51,
   "id": "163984ec",
   "metadata": {},
   "outputs": [],
   "source": [
    "combined_images_train = []\n",
    "combined_images_test = []\n",
    "\n",
    "combined_labels_train = []\n",
    "combined_labels_test=[]\n",
    "for i,j in zip(index_set1,index_set2):\n",
    "    im1 = x_train2[:30000][i]\n",
    "    im2 = x_train2[30000:][j]\n",
    "    \n",
    "    combined_image_train = combine_numbers(im1,im2,OFFSET=(0,17))\n",
    "    combined_image_train = arrayScale2D(combined_image_train,(28,28))\n",
    "    combined_images_train.append(combined_image_train)\n",
    "    combined_labels_train.append(10)\n",
    "    \n",
    "for i,j in zip(index_set3,index_set4):\n",
    "    im1 = x_test2[:5000][i]\n",
    "    im2 = x_test2[5000:][j]\n",
    "    \n",
    "    combined_image_test = combine_numbers(im1,im2,OFFSET=(0,17))\n",
    "    combined_image_test = arrayScale2D(combined_image_test,(28,28))\n",
    "    combined_images_test.append(combined_image_test)\n",
    "    \n",
    "    combined_labels_test.append(10)\n",
    "        "
   ]
  },
  {
   "cell_type": "code",
   "execution_count": 65,
   "id": "e9ddea8c",
   "metadata": {},
   "outputs": [],
   "source": [
    "X_train = np.concatenate([x_train2,np.array(combined_images_train)])\n",
    "Y_train = np.concatenate([y_train2,np.array(combined_labels_train)])\n",
    "\n",
    "X_test = np.concatenate([x_test2,np.array(combined_images_test)])\n",
    "Y_test = np.concatenate([y_test2,np.array(combined_labels_test)])"
   ]
  },
  {
   "cell_type": "code",
   "execution_count": 66,
   "id": "0a5d9dba",
   "metadata": {},
   "outputs": [],
   "source": [
    "# Redoing the model:\n",
    "Y_train = keras.utils.to_categorical(Y_train, num_classes=11).astype('uint8')\n",
    "Y_test = keras.utils.to_categorical(Y_test, num_classes=11).astype('uint8')"
   ]
  },
  {
   "cell_type": "code",
   "execution_count": 69,
   "id": "05d27db1",
   "metadata": {},
   "outputs": [],
   "source": [
    "# Prepping for the learning agent:\n",
    "X_train = np.expand_dims(X_train,-1)\n",
    "X_test = np.expand_dims(X_test,-1)"
   ]
  },
  {
   "cell_type": "code",
   "execution_count": 74,
   "id": "a37ae962",
   "metadata": {},
   "outputs": [],
   "source": [
    "model2 = Sequential(\n",
    "    [\n",
    "        Input(shape=(28,28,1)),\n",
    "        Conv2D(32, kernel_size=(3, 3), activation=\"relu\"),\n",
    "        MaxPooling2D(pool_size=(2, 2)),\n",
    "        Conv2D(64, kernel_size=(3, 3), activation=\"relu\"),\n",
    "        MaxPooling2D(pool_size=(2, 2)),\n",
    "        Flatten(),\n",
    "        Dropout(0.5),\n",
    "        Dense(11, activation=\"softmax\"),\n",
    "    ]\n",
    ")"
   ]
  },
  {
   "cell_type": "code",
   "execution_count": 77,
   "id": "afe9dc0a",
   "metadata": {},
   "outputs": [
    {
     "name": "stdout",
     "output_type": "stream",
     "text": [
      "Model: \"sequential_2\"\n",
      "_________________________________________________________________\n",
      " Layer (type)                Output Shape              Param #   \n",
      "=================================================================\n",
      " conv2d_4 (Conv2D)           (None, 26, 26, 32)        320       \n",
      "                                                                 \n",
      " max_pooling2d_4 (MaxPooling  (None, 13, 13, 32)       0         \n",
      " 2D)                                                             \n",
      "                                                                 \n",
      " conv2d_5 (Conv2D)           (None, 11, 11, 64)        18496     \n",
      "                                                                 \n",
      " max_pooling2d_5 (MaxPooling  (None, 5, 5, 64)         0         \n",
      " 2D)                                                             \n",
      "                                                                 \n",
      " flatten_2 (Flatten)         (None, 1600)              0         \n",
      "                                                                 \n",
      " dropout_2 (Dropout)         (None, 1600)              0         \n",
      "                                                                 \n",
      " dense_2 (Dense)             (None, 11)                17611     \n",
      "                                                                 \n",
      "=================================================================\n",
      "Total params: 36,427\n",
      "Trainable params: 36,427\n",
      "Non-trainable params: 0\n",
      "_________________________________________________________________\n"
     ]
    }
   ],
   "source": [
    "model2.compile(loss='categorical_crossentropy',optimizer='adam',metrics=['accuracy'])\n",
    "model2.summary()"
   ]
  },
  {
   "cell_type": "code",
   "execution_count": 78,
   "id": "ecfe0a86",
   "metadata": {},
   "outputs": [
    {
     "name": "stdout",
     "output_type": "stream",
     "text": [
      "Epoch 1/10\n",
      "2266/2266 [==============================] - 16s 7ms/step - loss: 0.4914 - accuracy: 0.9121\n",
      "Epoch 2/10\n",
      "2266/2266 [==============================] - 15s 7ms/step - loss: 0.1149 - accuracy: 0.9646\n",
      "Epoch 3/10\n",
      "2266/2266 [==============================] - 15s 7ms/step - loss: 0.0998 - accuracy: 0.9703\n",
      "Epoch 4/10\n",
      "2266/2266 [==============================] - 15s 7ms/step - loss: 0.0859 - accuracy: 0.9741\n",
      "Epoch 5/10\n",
      "2266/2266 [==============================] - 15s 7ms/step - loss: 0.0779 - accuracy: 0.9772\n",
      "Epoch 6/10\n",
      "2266/2266 [==============================] - 15s 7ms/step - loss: 0.0727 - accuracy: 0.9783\n",
      "Epoch 7/10\n",
      "2266/2266 [==============================] - 15s 7ms/step - loss: 0.0670 - accuracy: 0.9797\n",
      "Epoch 8/10\n",
      "2266/2266 [==============================] - 15s 7ms/step - loss: 0.0627 - accuracy: 0.9808\n",
      "Epoch 9/10\n",
      "2266/2266 [==============================] - 16s 7ms/step - loss: 0.0611 - accuracy: 0.9820\n",
      "Epoch 10/10\n",
      "2266/2266 [==============================] - 31s 14ms/step - loss: 0.0578 - accuracy: 0.9830\n"
     ]
    },
    {
     "data": {
      "text/plain": [
       "<keras.callbacks.History at 0x285a44df0>"
      ]
     },
     "execution_count": 78,
     "metadata": {},
     "output_type": "execute_result"
    }
   ],
   "source": [
    "model2.fit(X_train,Y_train,epochs=10)"
   ]
  },
  {
   "cell_type": "code",
   "execution_count": 79,
   "id": "89b20ac0",
   "metadata": {},
   "outputs": [
    {
     "name": "stdout",
     "output_type": "stream",
     "text": [
      "375/375 [==============================] - 1s 2ms/step - loss: 0.0351 - accuracy: 0.9889\n"
     ]
    },
    {
     "data": {
      "text/plain": [
       "[0.035140689462423325, 0.9889166951179504]"
      ]
     },
     "execution_count": 79,
     "metadata": {},
     "output_type": "execute_result"
    }
   ],
   "source": [
    "model2.evaluate(X_test,Y_test)"
   ]
  },
  {
   "cell_type": "code",
   "execution_count": 91,
   "id": "deb27ffa",
   "metadata": {},
   "outputs": [
    {
     "name": "stdout",
     "output_type": "stream",
     "text": [
      "1/1 [==============================] - 0s 15ms/step\n"
     ]
    },
    {
     "data": {
      "text/plain": [
       "array([[0., 0., 0., 0., 0., 0., 0., 0., 0., 0., 1.]], dtype=float32)"
      ]
     },
     "execution_count": 91,
     "metadata": {},
     "output_type": "execute_result"
    }
   ],
   "source": [
    "model2.predict(X_train[-347:-346])"
   ]
  },
  {
   "cell_type": "code",
   "execution_count": 90,
   "id": "05e4984c",
   "metadata": {},
   "outputs": [
    {
     "data": {
      "image/png": "[encoded data removed]",
      "text/plain": [
       "<Figure size 300x300 with 2 Axes>"
      ]
     },
     "metadata": {},
     "output_type": "display_data"
    }
   ],
   "source": [
    "ezplot(X_train[-347].reshape(28,28))"
   ]
  },
  {
   "cell_type": "code",
   "execution_count": null,
   "id": "b8ac72ea",
   "metadata": {},
   "outputs": [],
   "source": []
  },
  {
   "cell_type": "code",
   "execution_count": 44,
   "id": "b7b03510",
   "metadata": {},
   "outputs": [
    {
     "data": {
      "text/plain": [
       "array([ 5,  0,  4, ..., 11, 11, 11], dtype=uint8)"
      ]
     },
     "execution_count": 44,
     "metadata": {},
     "output_type": "execute_result"
    }
   ],
   "source": [
    "Y_train.astype('uint8')"
   ]
  },
  {
   "cell_type": "code",
   "execution_count": null,
   "id": "91f6a89e",
   "metadata": {},
   "outputs": [],
   "source": []
  },
  {
   "cell_type": "code",
   "execution_count": 71,
   "id": "c426e998",
   "metadata": {},
   "outputs": [
    {
     "name": "stdout",
     "output_type": "stream",
     "text": [
      "6\n"
     ]
    },
    {
     "data": {
      "image/png": "[encoded data removed]",
      "text/plain": [
       "<Figure size 300x300 with 2 Axes>"
      ]
     },
     "metadata": {},
     "output_type": "display_data"
    }
   ],
   "source": [
    "ezplot(x_train2[index[234]])\n",
    "print(y_train2[index[234]])"
   ]
  },
  {
   "cell_type": "code",
   "execution_count": null,
   "id": "36db542b",
   "metadata": {},
   "outputs": [],
   "source": [
    "# Change the shape of the image (10000,28,28,1) --> (10000,28,28)\n",
    "\n",
    "# Check that the reshape works:\n",
    "ax = plt.figure(figsize=(3,3))\n",
    "sns.heatmap(image[4])\n",
    "im_t = image[4]"
   ]
  },
  {
   "cell_type": "code",
   "execution_count": null,
   "id": "24dd31ad",
   "metadata": {},
   "outputs": [],
   "source": [
    "## Check to make sure we can resize this image:\n",
    "im_t_scaled = arrayScale2D(im_t,(100,80))\n",
    "plt.figure(figsize=(3,3))\n",
    "sns.heatmap(im_t_scaled)"
   ]
  },
  {
   "cell_type": "code",
   "execution_count": null,
   "id": "0a1b5e1d",
   "metadata": {},
   "outputs": [],
   "source": [
    "nums = []\n",
    "for i in range(5):\n",
    "    nums.append(image[i])"
   ]
  },
  {
   "cell_type": "code",
   "execution_count": null,
   "id": "ff6d5c44",
   "metadata": {},
   "outputs": [],
   "source": [
    "plt.figure(figsize=(3,3))\n",
    "sns.heatmap(nums[1])"
   ]
  },
  {
   "cell_type": "code",
   "execution_count": null,
   "id": "256f7710",
   "metadata": {},
   "outputs": [],
   "source": [
    "comb_1 = combine_numbers(nums[0],nums[1],OFFSET=(0,20))\n",
    "ezplot(comb_1)\n",
    "comb_1 = arrayScale2D(A = comb_1,array_size=(28,28))\n",
    "ezplot(comb_1)\n",
    "\n",
    "comb_2 = combine_numbers(comb_1, nums[3],OFFSET=(0,20))\n",
    "comb_2 = arrayScale2D(comb_2,(28,28))\n",
    "comb_3 = combine_numbers(comb_2,nums[4],OFFSET=(0,25))\n",
    "comb_3 = arrayScale2D(comb_3,(28,28))\n",
    "ezplot(comb_3)"
   ]
  },
  {
   "cell_type": "code",
   "execution_count": null,
   "id": "4259b993",
   "metadata": {},
   "outputs": [],
   "source": [
    "# Creating a function that randomly combines many different digits\n",
    "# Cap the maximum value to 255\n",
    "# Cap the minimum value to 0\n",
    "# Utilize only integers\n",
    "\n",
    "# Creating two sets:\n",
    "image_set_1 = image[:5000]\n",
    "image_set_2 = image[5000:]\n",
    "\n",
    "combined_images = []\n",
    "for im1,im2 in zip(image_set_1,image_set_2):\n",
    "    comb_im = combine_numbers(im1,im2,OFFSET=(0,18))\n",
    "    comb_im = arrayScale2D(comb_im,(28,28))\n",
    "    comb_im[comb_im > 255] = 255\n",
    "    comb_im[comb_im<0] = 0\n",
    "    comb_im = comb_im.astype('uint8')\n",
    "    combined_images.append(comb_im)\n",
    "    \n",
    "    comb_im = combine_numbers(im2,im1,OFFSET=(0,18))\n",
    "    comb_im = arrayScale2D(comb_im,(28,28))\n",
    "    comb_im[comb_im > 255] = 255\n",
    "    comb_im[comb_im<0] = 0\n",
    "    comb_im = comb_im.astype('uint8')\n",
    "    combined_images.append(comb_im)\n",
    "\n",
    "\n"
   ]
  },
  {
   "cell_type": "code",
   "execution_count": null,
   "id": "0b181f93",
   "metadata": {},
   "outputs": [],
   "source": [
    "combined_images = np.array(combined_images)"
   ]
  },
  {
   "cell_type": "code",
   "execution_count": null,
   "id": "2590310e",
   "metadata": {},
   "outputs": [],
   "source": [
    "# Now we should create a nueral network:\n",
    "import tensorflow as tf\n",
    "from tensorflow.keras.models import Sequential, Model\n",
    "from tensorflow.keras.layers import Dense, Flatten"
   ]
  },
  {
   "cell_type": "code",
   "execution_count": null,
   "id": "90263989",
   "metadata": {},
   "outputs": [],
   "source": [
    "# Let us see the performance on original ten digits:\n",
    "\n",
    "model = Sequential()\n",
    "model.add(Flatten(input_shape=(28,28)))\n",
    "model.add(Dense(20,activation='relu'))\n",
    "model.add(Dense(20,activation='relu'))\n",
    "model.add(Dense(20,activation='relu'))\n",
    "model.add(Dense(10,activation='softmax'))\n"
   ]
  },
  {
   "cell_type": "code",
   "execution_count": null,
   "id": "110875bc",
   "metadata": {},
   "outputs": [],
   "source": [
    "model.summary()\n",
    "model.compile(loss='categorical_crossentropy', optimizer='adam', metrics=['accuracy'])"
   ]
  },
  {
   "cell_type": "code",
   "execution_count": null,
   "id": "4e221570",
   "metadata": {},
   "outputs": [],
   "source": [
    "model.fit(image,label2,epochs=10)"
   ]
  },
  {
   "cell_type": "code",
   "execution_count": null,
   "id": "4fa51ca1",
   "metadata": {},
   "outputs": [],
   "source": [
    "image2 = image.reshape(10000,-1)"
   ]
  },
  {
   "cell_type": "code",
   "execution_count": null,
   "id": "a960bec9",
   "metadata": {
    "scrolled": false
   },
   "outputs": [],
   "source": [
    "model.predict(image[5].reshape(-1,28,28))"
   ]
  },
  {
   "cell_type": "code",
   "execution_count": null,
   "id": "c2162d52",
   "metadata": {},
   "outputs": [],
   "source": [
    "ezplot(image[5])"
   ]
  },
  {
   "cell_type": "code",
   "execution_count": null,
   "id": "9a1f3584",
   "metadata": {},
   "outputs": [],
   "source": [
    "out = tf.keras.datasets.mnist.load_data()"
   ]
  },
  {
   "cell_type": "code",
   "execution_count": null,
   "id": "2dcce123",
   "metadata": {},
   "outputs": [],
   "source": [
    "out[0][1].shape"
   ]
  },
  {
   "cell_type": "code",
   "execution_count": null,
   "id": "18e33b46",
   "metadata": {},
   "outputs": [],
   "source": [
    "label2 = tf.keras.utils.to_categorical(label, 10)"
   ]
  },
  {
   "cell_type": "code",
   "execution_count": null,
   "id": "47e96eef",
   "metadata": {},
   "outputs": [],
   "source": [
    "label2.shape"
   ]
  },
  {
   "cell_type": "code",
   "execution_count": null,
   "id": "d178fede",
   "metadata": {},
   "outputs": [],
   "source": [
    "image.shape"
   ]
  },
  {
   "cell_type": "code",
   "execution_count": null,
   "id": "6ec391c8",
   "metadata": {},
   "outputs": [],
   "source": []
  }
 ],
 "metadata": {
  "kernelspec": {
   "display_name": "Python 3 (ipykernel)",
   "language": "python",
   "name": "python3"
  },
  "language_info": {
   "codemirror_mode": {
    "name": "ipython",
    "version": 3
   },
   "file_extension": ".py",
   "mimetype": "text/x-python",
   "name": "python",
   "nbconvert_exporter": "python",
   "pygments_lexer": "ipython3",
   "version": "3.10.12"
  }
 },
 "nbformat": 4,
 "nbformat_minor": 5
}
